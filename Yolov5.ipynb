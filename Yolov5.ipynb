{
  "nbformat": 4,
  "nbformat_minor": 0,
  "metadata": {
    "colab": {
      "name": "Yolov5.ipynb",
      "provenance": [],
      "collapsed_sections": [],
      "include_colab_link": true
    },
    "kernelspec": {
      "name": "python3",
      "display_name": "Python 3"
    },
    "accelerator": "GPU"
  },
  "cells": [
    {
      "cell_type": "markdown",
      "metadata": {
        "id": "view-in-github",
        "colab_type": "text"
      },
      "source": [
        "<a href=\"https://colab.research.google.com/github/alexbodin/yolov5/blob/master/Yolov5.ipynb\" target=\"_parent\"><img src=\"https://colab.research.google.com/assets/colab-badge.svg\" alt=\"Open In Colab\"/></a>"
      ]
    },
    {
      "cell_type": "markdown",
      "metadata": {
        "id": "yUT3Uzie99ki"
      },
      "source": [
        "# Clone YOLOv5 repo and install requirements\n",
        "\n",
        "The repo from alexbodin is a modified version of yolov5 detect.py to include a way to run the inference from python\n",
        "\n"
      ]
    },
    {
      "cell_type": "code",
      "metadata": {
        "id": "B3KGUu5YQnl2"
      },
      "source": [
        "!git clone https://github.com/alexbodin/yolov5\n",
        "%cd /content/yolov5\n",
        "!pip install -qr requirements.txt"
      ],
      "execution_count": null,
      "outputs": []
    },
    {
      "cell_type": "markdown",
      "metadata": {
        "id": "M2hPtXln-Vi8"
      },
      "source": [
        "# Run detection\n",
        "\n",
        "The folder inference_pics has some example images to test on\n",
        "\n",
        "The file main.py will be used for integrating the model with other python scripts."
      ]
    },
    {
      "cell_type": "code",
      "metadata": {
        "id": "SKih76uxhuXO"
      },
      "source": [
        "!python detect.py --source inference_pics/GOPR0212_16050881947191.JPG --weights best.pt --conf 0.5 --save-txt"
      ],
      "execution_count": null,
      "outputs": []
    },
    {
      "cell_type": "code",
      "metadata": {
        "id": "nqppFTFplvo6"
      },
      "source": [
        "!python main.py"
      ],
      "execution_count": null,
      "outputs": []
    }
  ]
}