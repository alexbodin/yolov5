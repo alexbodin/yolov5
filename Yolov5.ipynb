{
  "nbformat": 4,
  "nbformat_minor": 0,
  "metadata": {
    "colab": {
      "name": "Yolov5.ipynb",
      "provenance": [],
      "collapsed_sections": [],
      "include_colab_link": true
    },
    "kernelspec": {
      "name": "python3",
      "display_name": "Python 3"
    },
    "accelerator": "GPU"
  },
  "cells": [
    {
      "cell_type": "markdown",
      "metadata": {
        "id": "view-in-github",
        "colab_type": "text"
      },
      "source": [
        "<a href=\"https://colab.research.google.com/github/alexbodin/yolov5/blob/master/Yolov5.ipynb\" target=\"_parent\"><img src=\"https://colab.research.google.com/assets/colab-badge.svg\" alt=\"Open In Colab\"/></a>"
      ]
    },
    {
      "cell_type": "code",
      "metadata": {
        "id": "l9z8rC4nv--q"
      },
      "source": [
        "#from google.colab import drive\n",
        "#drive.mount('/content/drive')"
      ],
      "execution_count": 2,
      "outputs": []
    },
    {
      "cell_type": "code",
      "metadata": {
        "colab": {
          "base_uri": "https://localhost:8080/"
        },
        "id": "B3KGUu5YQnl2",
        "outputId": "0a71a4e5-953b-4d46-8e7b-5ed32439fb0e"
      },
      "source": [
        "!git clone https://github.com/alexbodin/yolov5 "
      ],
      "execution_count": 3,
      "outputs": [
        {
          "output_type": "stream",
          "text": [
            "Cloning into 'yolov5'...\n",
            "remote: Enumerating objects: 38, done.\u001b[K\n",
            "remote: Counting objects: 100% (38/38), done.\u001b[K\n",
            "remote: Compressing objects: 100% (32/32), done.\u001b[K\n",
            "remote: Total 5485 (delta 13), reused 25 (delta 6), pack-reused 5447\u001b[K\n",
            "Receiving objects: 100% (5485/5485), 55.83 MiB | 30.55 MiB/s, done.\n",
            "Resolving deltas: 100% (3736/3736), done.\n"
          ],
          "name": "stdout"
        }
      ]
    },
    {
      "cell_type": "code",
      "metadata": {
        "colab": {
          "base_uri": "https://localhost:8080/"
        },
        "id": "pc5nU8c2gitn",
        "outputId": "b671d1ad-5397-4aba-ebfa-8a4fd619f7bf"
      },
      "source": [
        "%cd /content/yolov5"
      ],
      "execution_count": 4,
      "outputs": [
        {
          "output_type": "stream",
          "text": [
            "/content/yolov5\n"
          ],
          "name": "stdout"
        }
      ]
    },
    {
      "cell_type": "code",
      "metadata": {
        "colab": {
          "base_uri": "https://localhost:8080/"
        },
        "id": "9saMOWGD5usF",
        "outputId": "6df7c84f-7bde-4fa4-983b-26d968867aa1"
      },
      "source": [
        "!pip install -qr requirements.txt"
      ],
      "execution_count": 5,
      "outputs": [
        {
          "output_type": "stream",
          "text": [
            "\u001b[?25l\r\u001b[K     |▌                               | 10kB 24.0MB/s eta 0:00:01\r\u001b[K     |█                               | 20kB 21.6MB/s eta 0:00:01\r\u001b[K     |█▌                              | 30kB 16.4MB/s eta 0:00:01\r\u001b[K     |██                              | 40kB 14.7MB/s eta 0:00:01\r\u001b[K     |██▋                             | 51kB 8.8MB/s eta 0:00:01\r\u001b[K     |███                             | 61kB 8.2MB/s eta 0:00:01\r\u001b[K     |███▋                            | 71kB 9.3MB/s eta 0:00:01\r\u001b[K     |████▏                           | 81kB 10.1MB/s eta 0:00:01\r\u001b[K     |████▋                           | 92kB 10.8MB/s eta 0:00:01\r\u001b[K     |█████▏                          | 102kB 8.2MB/s eta 0:00:01\r\u001b[K     |█████▋                          | 112kB 8.2MB/s eta 0:00:01\r\u001b[K     |██████▏                         | 122kB 8.2MB/s eta 0:00:01\r\u001b[K     |██████▊                         | 133kB 8.2MB/s eta 0:00:01\r\u001b[K     |███████▏                        | 143kB 8.2MB/s eta 0:00:01\r\u001b[K     |███████▊                        | 153kB 8.2MB/s eta 0:00:01\r\u001b[K     |████████▎                       | 163kB 8.2MB/s eta 0:00:01\r\u001b[K     |████████▊                       | 174kB 8.2MB/s eta 0:00:01\r\u001b[K     |█████████▎                      | 184kB 8.2MB/s eta 0:00:01\r\u001b[K     |█████████▉                      | 194kB 8.2MB/s eta 0:00:01\r\u001b[K     |██████████▎                     | 204kB 8.2MB/s eta 0:00:01\r\u001b[K     |██████████▉                     | 215kB 8.2MB/s eta 0:00:01\r\u001b[K     |███████████▎                    | 225kB 8.2MB/s eta 0:00:01\r\u001b[K     |███████████▉                    | 235kB 8.2MB/s eta 0:00:01\r\u001b[K     |████████████▍                   | 245kB 8.2MB/s eta 0:00:01\r\u001b[K     |████████████▉                   | 256kB 8.2MB/s eta 0:00:01\r\u001b[K     |█████████████▍                  | 266kB 8.2MB/s eta 0:00:01\r\u001b[K     |██████████████                  | 276kB 8.2MB/s eta 0:00:01\r\u001b[K     |██████████████▍                 | 286kB 8.2MB/s eta 0:00:01\r\u001b[K     |███████████████                 | 296kB 8.2MB/s eta 0:00:01\r\u001b[K     |███████████████▍                | 307kB 8.2MB/s eta 0:00:01\r\u001b[K     |████████████████                | 317kB 8.2MB/s eta 0:00:01\r\u001b[K     |████████████████▌               | 327kB 8.2MB/s eta 0:00:01\r\u001b[K     |█████████████████               | 337kB 8.2MB/s eta 0:00:01\r\u001b[K     |█████████████████▌              | 348kB 8.2MB/s eta 0:00:01\r\u001b[K     |██████████████████              | 358kB 8.2MB/s eta 0:00:01\r\u001b[K     |██████████████████▌             | 368kB 8.2MB/s eta 0:00:01\r\u001b[K     |███████████████████             | 378kB 8.2MB/s eta 0:00:01\r\u001b[K     |███████████████████▋            | 389kB 8.2MB/s eta 0:00:01\r\u001b[K     |████████████████████            | 399kB 8.2MB/s eta 0:00:01\r\u001b[K     |████████████████████▋           | 409kB 8.2MB/s eta 0:00:01\r\u001b[K     |█████████████████████           | 419kB 8.2MB/s eta 0:00:01\r\u001b[K     |█████████████████████▋          | 430kB 8.2MB/s eta 0:00:01\r\u001b[K     |██████████████████████▏         | 440kB 8.2MB/s eta 0:00:01\r\u001b[K     |██████████████████████▋         | 450kB 8.2MB/s eta 0:00:01\r\u001b[K     |███████████████████████▏        | 460kB 8.2MB/s eta 0:00:01\r\u001b[K     |███████████████████████▊        | 471kB 8.2MB/s eta 0:00:01\r\u001b[K     |████████████████████████▏       | 481kB 8.2MB/s eta 0:00:01\r\u001b[K     |████████████████████████▊       | 491kB 8.2MB/s eta 0:00:01\r\u001b[K     |█████████████████████████▏      | 501kB 8.2MB/s eta 0:00:01\r\u001b[K     |█████████████████████████▊      | 512kB 8.2MB/s eta 0:00:01\r\u001b[K     |██████████████████████████▎     | 522kB 8.2MB/s eta 0:00:01\r\u001b[K     |██████████████████████████▊     | 532kB 8.2MB/s eta 0:00:01\r\u001b[K     |███████████████████████████▎    | 542kB 8.2MB/s eta 0:00:01\r\u001b[K     |███████████████████████████▉    | 552kB 8.2MB/s eta 0:00:01\r\u001b[K     |████████████████████████████▎   | 563kB 8.2MB/s eta 0:00:01\r\u001b[K     |████████████████████████████▉   | 573kB 8.2MB/s eta 0:00:01\r\u001b[K     |█████████████████████████████▍  | 583kB 8.2MB/s eta 0:00:01\r\u001b[K     |█████████████████████████████▉  | 593kB 8.2MB/s eta 0:00:01\r\u001b[K     |██████████████████████████████▍ | 604kB 8.2MB/s eta 0:00:01\r\u001b[K     |██████████████████████████████▉ | 614kB 8.2MB/s eta 0:00:01\r\u001b[K     |███████████████████████████████▍| 624kB 8.2MB/s eta 0:00:01\r\u001b[K     |████████████████████████████████| 634kB 8.2MB/s eta 0:00:01\r\u001b[K     |████████████████████████████████| 645kB 8.2MB/s \n",
            "\u001b[?25h"
          ],
          "name": "stdout"
        }
      ]
    },
    {
      "cell_type": "code",
      "metadata": {
        "id": "SKih76uxhuXO"
      },
      "source": [
        "!python detect.py --source inference_pics/GOPR0212_16050881947191.JPG --weights best.pt --conf 0.5 --save-txt"
      ],
      "execution_count": null,
      "outputs": []
    },
    {
      "cell_type": "code",
      "metadata": {
        "id": "nqppFTFplvo6"
      },
      "source": [
        "!python main.py"
      ],
      "execution_count": null,
      "outputs": []
    }
  ]
}